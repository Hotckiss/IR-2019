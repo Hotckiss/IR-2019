{
 "cells": [
  {
   "cell_type": "code",
   "execution_count": 1,
   "metadata": {},
   "outputs": [],
   "source": [
    "import json\n",
    "from elasticsearch import Elasticsearch\n",
    "from elasticsearch.helpers import parallel_bulk\n",
    "import os\n",
    "from tqdm import tqdm_notebook as tqdm\n",
    "import time\n",
    "from lxml import etree\n",
    "from sklearn.metrics import r2_score\n",
    "from datetime import timedelta\n",
    "import numpy as np"
   ]
  },
  {
   "cell_type": "code",
   "execution_count": 2,
   "metadata": {},
   "outputs": [],
   "source": [
    "def create_es_action(index, doc_id, document):\n",
    "    return {\n",
    "        '_index': index,\n",
    "        '_id': doc_id,\n",
    "        '_source': document\n",
    "    }\n",
    "\n",
    "def pretty_print_result(search_result, fields=None):\n",
    "    if fields is None:\n",
    "        fields = []\n",
    "    res = search_result['hits']\n",
    "    print(f'Total documents: {res[\"total\"][\"value\"]}')\n",
    "    for hit in res['hits']:\n",
    "        print(f'Doc {hit[\"_id\"]}, score is {hit[\"_score\"]}')\n",
    "        for field in fields:\n",
    "            print(f'{field}: {hit[\"_source\"][field]}')\n",
    "\n",
    "\n",
    "def get_score(search_result):\n",
    "    res = []\n",
    "    for hit in search_result['hits']['hits']:\n",
    "        res.append((hit[\"_id\"], hit[\"_score\"]))\n",
    "    res.sort(key = lambda x: x[1], reverse = True)\n",
    "    return res\n",
    "\n",
    "\n",
    "class Index:\n",
    "    def __init__(self, index, settings):\n",
    "        self.index_name = index\n",
    "        self.settings = settings\n",
    "        self.es = Elasticsearch([{'host': 'localhost', 'port': 9200, 'timeout': 360}])\n",
    "        if self.es.indices.exists(index=index):\n",
    "            self.es.indices.delete(index=index)\n",
    "        self.es.indices.create(index=index, body=settings)\n",
    "\n",
    "    def es_actions_generator(self, path_to_docs):\n",
    "        for doc_name in tqdm(os.listdir(path_to_docs)):\n",
    "            with open(f\"{path_to_docs}/{doc_name}\", \"r\", encoding=\"utf-8\") as inf:\n",
    "                doc_id = int(''.join(list(filter(str.isdigit, doc_name))))\n",
    "                doc = json.load(inf)           \n",
    "            yield create_es_action(self.index_name, doc_id, doc)\n",
    "\n",
    "\n",
    "    def add_documents(self, path_to_docs):\n",
    "        try:\n",
    "            for ok, result in parallel_bulk(self.es, self.es_actions_generator(path_to_docs), queue_size=4, thread_count=4,\n",
    "                                        chunk_size=1000):\n",
    "                  if not ok:\n",
    "                     print(result)\n",
    "        except Exception as e: \n",
    "            print(e)\n",
    "\n",
    "    def get_doc_by_id(self, doc_id):\n",
    "        return self.es.get(index=self.index_name, id=doc_id)['_source']\n",
    "\n",
    "    def search(self, query, *args):\n",
    "        return self.es.search(index=self.index_name, body=query, size=20)\n",
    "        # note that size set to 20 just because default value is 10 and we know that we have 12 docs and 10 < 12 < 20\n",
    "\n"
   ]
  },
  {
   "cell_type": "code",
   "execution_count": 14,
   "metadata": {},
   "outputs": [],
   "source": [
    "settings_1 = {\n",
    "    \"mappings\": {\n",
    "        \"properties\": {\n",
    "            \"text\": {\n",
    "                \"type\": \"text\"\n",
    "            }\n",
    "        }\n",
    "    }\n",
    "}"
   ]
  },
  {
   "cell_type": "code",
   "execution_count": 15,
   "metadata": {},
   "outputs": [],
   "source": [
    "settings_title = {\n",
    "    \"mappings\": {\n",
    "        \"properties\": {\n",
    "            \"title\": {\n",
    "                \"type\": \"text\"\n",
    "            },\n",
    "            \n",
    "            \"content\": {\n",
    "                \"type\": \"text\"\n",
    "            }\n",
    "        }\n",
    "    }\n",
    "}"
   ]
  },
  {
   "cell_type": "code",
   "execution_count": 16,
   "metadata": {},
   "outputs": [
    {
     "ename": "RequestError",
     "evalue": "RequestError(400, 'mapper_parsing_exception', 'Root mapping definition has unsupported parameters:  [text : {type=text}]')",
     "output_type": "error",
     "traceback": [
      "\u001b[0;31m---------------------------------------------------------------------------\u001b[0m",
      "\u001b[0;31mRequestError\u001b[0m                              Traceback (most recent call last)",
      "\u001b[0;32m<ipython-input-16-42fbef3f1808>\u001b[0m in \u001b[0;36m<module>\u001b[0;34m\u001b[0m\n\u001b[0;32m----> 1\u001b[0;31m \u001b[0mindex\u001b[0m \u001b[0;34m=\u001b[0m \u001b[0mIndex\u001b[0m\u001b[0;34m(\u001b[0m\u001b[0;34m\"docs\"\u001b[0m\u001b[0;34m,\u001b[0m \u001b[0msettings_1\u001b[0m\u001b[0;34m)\u001b[0m\u001b[0;34m\u001b[0m\u001b[0;34m\u001b[0m\u001b[0m\n\u001b[0m",
      "\u001b[0;32m<ipython-input-2-a46e3cf5f34c>\u001b[0m in \u001b[0;36m__init__\u001b[0;34m(self, index, settings)\u001b[0m\n\u001b[1;32m     32\u001b[0m         \u001b[0;32mif\u001b[0m \u001b[0mself\u001b[0m\u001b[0;34m.\u001b[0m\u001b[0mes\u001b[0m\u001b[0;34m.\u001b[0m\u001b[0mindices\u001b[0m\u001b[0;34m.\u001b[0m\u001b[0mexists\u001b[0m\u001b[0;34m(\u001b[0m\u001b[0mindex\u001b[0m\u001b[0;34m=\u001b[0m\u001b[0mindex\u001b[0m\u001b[0;34m)\u001b[0m\u001b[0;34m:\u001b[0m\u001b[0;34m\u001b[0m\u001b[0;34m\u001b[0m\u001b[0m\n\u001b[1;32m     33\u001b[0m             \u001b[0mself\u001b[0m\u001b[0;34m.\u001b[0m\u001b[0mes\u001b[0m\u001b[0;34m.\u001b[0m\u001b[0mindices\u001b[0m\u001b[0;34m.\u001b[0m\u001b[0mdelete\u001b[0m\u001b[0;34m(\u001b[0m\u001b[0mindex\u001b[0m\u001b[0;34m=\u001b[0m\u001b[0mindex\u001b[0m\u001b[0;34m)\u001b[0m\u001b[0;34m\u001b[0m\u001b[0;34m\u001b[0m\u001b[0m\n\u001b[0;32m---> 34\u001b[0;31m         \u001b[0mself\u001b[0m\u001b[0;34m.\u001b[0m\u001b[0mes\u001b[0m\u001b[0;34m.\u001b[0m\u001b[0mindices\u001b[0m\u001b[0;34m.\u001b[0m\u001b[0mcreate\u001b[0m\u001b[0;34m(\u001b[0m\u001b[0mindex\u001b[0m\u001b[0;34m=\u001b[0m\u001b[0mindex\u001b[0m\u001b[0;34m,\u001b[0m \u001b[0mbody\u001b[0m\u001b[0;34m=\u001b[0m\u001b[0msettings\u001b[0m\u001b[0;34m)\u001b[0m\u001b[0;34m\u001b[0m\u001b[0;34m\u001b[0m\u001b[0m\n\u001b[0m\u001b[1;32m     35\u001b[0m \u001b[0;34m\u001b[0m\u001b[0m\n\u001b[1;32m     36\u001b[0m     \u001b[0;32mdef\u001b[0m \u001b[0mes_actions_generator\u001b[0m\u001b[0;34m(\u001b[0m\u001b[0mself\u001b[0m\u001b[0;34m,\u001b[0m \u001b[0mpath_to_docs\u001b[0m\u001b[0;34m)\u001b[0m\u001b[0;34m:\u001b[0m\u001b[0;34m\u001b[0m\u001b[0;34m\u001b[0m\u001b[0m\n",
      "\u001b[0;32m~/anaconda3/lib/python3.7/site-packages/elasticsearch/client/utils.py\u001b[0m in \u001b[0;36m_wrapped\u001b[0;34m(*args, **kwargs)\u001b[0m\n\u001b[1;32m     82\u001b[0m                 \u001b[0;32mif\u001b[0m \u001b[0mp\u001b[0m \u001b[0;32min\u001b[0m \u001b[0mkwargs\u001b[0m\u001b[0;34m:\u001b[0m\u001b[0;34m\u001b[0m\u001b[0;34m\u001b[0m\u001b[0m\n\u001b[1;32m     83\u001b[0m                     \u001b[0mparams\u001b[0m\u001b[0;34m[\u001b[0m\u001b[0mp\u001b[0m\u001b[0;34m]\u001b[0m \u001b[0;34m=\u001b[0m \u001b[0mkwargs\u001b[0m\u001b[0;34m.\u001b[0m\u001b[0mpop\u001b[0m\u001b[0;34m(\u001b[0m\u001b[0mp\u001b[0m\u001b[0;34m)\u001b[0m\u001b[0;34m\u001b[0m\u001b[0;34m\u001b[0m\u001b[0m\n\u001b[0;32m---> 84\u001b[0;31m             \u001b[0;32mreturn\u001b[0m \u001b[0mfunc\u001b[0m\u001b[0;34m(\u001b[0m\u001b[0;34m*\u001b[0m\u001b[0margs\u001b[0m\u001b[0;34m,\u001b[0m \u001b[0mparams\u001b[0m\u001b[0;34m=\u001b[0m\u001b[0mparams\u001b[0m\u001b[0;34m,\u001b[0m \u001b[0;34m**\u001b[0m\u001b[0mkwargs\u001b[0m\u001b[0;34m)\u001b[0m\u001b[0;34m\u001b[0m\u001b[0;34m\u001b[0m\u001b[0m\n\u001b[0m\u001b[1;32m     85\u001b[0m \u001b[0;34m\u001b[0m\u001b[0m\n\u001b[1;32m     86\u001b[0m         \u001b[0;32mreturn\u001b[0m \u001b[0m_wrapped\u001b[0m\u001b[0;34m\u001b[0m\u001b[0;34m\u001b[0m\u001b[0m\n",
      "\u001b[0;32m~/anaconda3/lib/python3.7/site-packages/elasticsearch/client/indices.py\u001b[0m in \u001b[0;36mcreate\u001b[0;34m(self, index, body, params)\u001b[0m\n\u001b[1;32m    103\u001b[0m             \u001b[0;32mraise\u001b[0m \u001b[0mValueError\u001b[0m\u001b[0;34m(\u001b[0m\u001b[0;34m\"Empty value passed for a required argument 'index'.\"\u001b[0m\u001b[0;34m)\u001b[0m\u001b[0;34m\u001b[0m\u001b[0;34m\u001b[0m\u001b[0m\n\u001b[1;32m    104\u001b[0m         return self.transport.perform_request(\n\u001b[0;32m--> 105\u001b[0;31m             \u001b[0;34m\"PUT\"\u001b[0m\u001b[0;34m,\u001b[0m \u001b[0m_make_path\u001b[0m\u001b[0;34m(\u001b[0m\u001b[0mindex\u001b[0m\u001b[0;34m)\u001b[0m\u001b[0;34m,\u001b[0m \u001b[0mparams\u001b[0m\u001b[0;34m=\u001b[0m\u001b[0mparams\u001b[0m\u001b[0;34m,\u001b[0m \u001b[0mbody\u001b[0m\u001b[0;34m=\u001b[0m\u001b[0mbody\u001b[0m\u001b[0;34m\u001b[0m\u001b[0;34m\u001b[0m\u001b[0m\n\u001b[0m\u001b[1;32m    106\u001b[0m         )\n\u001b[1;32m    107\u001b[0m \u001b[0;34m\u001b[0m\u001b[0m\n",
      "\u001b[0;32m~/anaconda3/lib/python3.7/site-packages/elasticsearch/transport.py\u001b[0m in \u001b[0;36mperform_request\u001b[0;34m(self, method, url, headers, params, body)\u001b[0m\n\u001b[1;32m    348\u001b[0m                     \u001b[0mheaders\u001b[0m\u001b[0;34m=\u001b[0m\u001b[0mheaders\u001b[0m\u001b[0;34m,\u001b[0m\u001b[0;34m\u001b[0m\u001b[0;34m\u001b[0m\u001b[0m\n\u001b[1;32m    349\u001b[0m                     \u001b[0mignore\u001b[0m\u001b[0;34m=\u001b[0m\u001b[0mignore\u001b[0m\u001b[0;34m,\u001b[0m\u001b[0;34m\u001b[0m\u001b[0;34m\u001b[0m\u001b[0m\n\u001b[0;32m--> 350\u001b[0;31m                     \u001b[0mtimeout\u001b[0m\u001b[0;34m=\u001b[0m\u001b[0mtimeout\u001b[0m\u001b[0;34m,\u001b[0m\u001b[0;34m\u001b[0m\u001b[0;34m\u001b[0m\u001b[0m\n\u001b[0m\u001b[1;32m    351\u001b[0m                 )\n\u001b[1;32m    352\u001b[0m \u001b[0;34m\u001b[0m\u001b[0m\n",
      "\u001b[0;32m~/anaconda3/lib/python3.7/site-packages/elasticsearch/connection/http_urllib3.py\u001b[0m in \u001b[0;36mperform_request\u001b[0;34m(self, method, url, params, body, timeout, ignore, headers)\u001b[0m\n\u001b[1;32m    250\u001b[0m                 \u001b[0mmethod\u001b[0m\u001b[0;34m,\u001b[0m \u001b[0mfull_url\u001b[0m\u001b[0;34m,\u001b[0m \u001b[0murl\u001b[0m\u001b[0;34m,\u001b[0m \u001b[0mbody\u001b[0m\u001b[0;34m,\u001b[0m \u001b[0mduration\u001b[0m\u001b[0;34m,\u001b[0m \u001b[0mresponse\u001b[0m\u001b[0;34m.\u001b[0m\u001b[0mstatus\u001b[0m\u001b[0;34m,\u001b[0m \u001b[0mraw_data\u001b[0m\u001b[0;34m\u001b[0m\u001b[0;34m\u001b[0m\u001b[0m\n\u001b[1;32m    251\u001b[0m             )\n\u001b[0;32m--> 252\u001b[0;31m             \u001b[0mself\u001b[0m\u001b[0;34m.\u001b[0m\u001b[0m_raise_error\u001b[0m\u001b[0;34m(\u001b[0m\u001b[0mresponse\u001b[0m\u001b[0;34m.\u001b[0m\u001b[0mstatus\u001b[0m\u001b[0;34m,\u001b[0m \u001b[0mraw_data\u001b[0m\u001b[0;34m)\u001b[0m\u001b[0;34m\u001b[0m\u001b[0;34m\u001b[0m\u001b[0m\n\u001b[0m\u001b[1;32m    253\u001b[0m \u001b[0;34m\u001b[0m\u001b[0m\n\u001b[1;32m    254\u001b[0m         self.log_request_success(\n",
      "\u001b[0;32m~/anaconda3/lib/python3.7/site-packages/elasticsearch/connection/base.py\u001b[0m in \u001b[0;36m_raise_error\u001b[0;34m(self, status_code, raw_data)\u001b[0m\n\u001b[1;32m    179\u001b[0m \u001b[0;34m\u001b[0m\u001b[0m\n\u001b[1;32m    180\u001b[0m         raise HTTP_EXCEPTIONS.get(status_code, TransportError)(\n\u001b[0;32m--> 181\u001b[0;31m             \u001b[0mstatus_code\u001b[0m\u001b[0;34m,\u001b[0m \u001b[0merror_message\u001b[0m\u001b[0;34m,\u001b[0m \u001b[0madditional_info\u001b[0m\u001b[0;34m\u001b[0m\u001b[0;34m\u001b[0m\u001b[0m\n\u001b[0m\u001b[1;32m    182\u001b[0m         )\n\u001b[1;32m    183\u001b[0m \u001b[0;34m\u001b[0m\u001b[0m\n",
      "\u001b[0;31mRequestError\u001b[0m: RequestError(400, 'mapper_parsing_exception', 'Root mapping definition has unsupported parameters:  [text : {type=text}]')"
     ]
    }
   ],
   "source": [
    "index = Index(\"docs\", settings_1)"
   ]
  },
  {
   "cell_type": "code",
   "execution_count": 17,
   "metadata": {},
   "outputs": [
    {
     "ename": "RequestError",
     "evalue": "RequestError(400, 'mapper_parsing_exception', 'Root mapping definition has unsupported parameters:  [title : {type=text}] [content : {type=text}]')",
     "output_type": "error",
     "traceback": [
      "\u001b[0;31m---------------------------------------------------------------------------\u001b[0m",
      "\u001b[0;31mRequestError\u001b[0m                              Traceback (most recent call last)",
      "\u001b[0;32m<ipython-input-17-b3cb4524a164>\u001b[0m in \u001b[0;36m<module>\u001b[0;34m\u001b[0m\n\u001b[0;32m----> 1\u001b[0;31m \u001b[0mindex_title\u001b[0m \u001b[0;34m=\u001b[0m \u001b[0mIndex\u001b[0m\u001b[0;34m(\u001b[0m\u001b[0;34m\"docs\"\u001b[0m\u001b[0;34m,\u001b[0m \u001b[0msettings_title\u001b[0m\u001b[0;34m)\u001b[0m\u001b[0;34m\u001b[0m\u001b[0;34m\u001b[0m\u001b[0m\n\u001b[0m",
      "\u001b[0;32m<ipython-input-2-a46e3cf5f34c>\u001b[0m in \u001b[0;36m__init__\u001b[0;34m(self, index, settings)\u001b[0m\n\u001b[1;32m     32\u001b[0m         \u001b[0;32mif\u001b[0m \u001b[0mself\u001b[0m\u001b[0;34m.\u001b[0m\u001b[0mes\u001b[0m\u001b[0;34m.\u001b[0m\u001b[0mindices\u001b[0m\u001b[0;34m.\u001b[0m\u001b[0mexists\u001b[0m\u001b[0;34m(\u001b[0m\u001b[0mindex\u001b[0m\u001b[0;34m=\u001b[0m\u001b[0mindex\u001b[0m\u001b[0;34m)\u001b[0m\u001b[0;34m:\u001b[0m\u001b[0;34m\u001b[0m\u001b[0;34m\u001b[0m\u001b[0m\n\u001b[1;32m     33\u001b[0m             \u001b[0mself\u001b[0m\u001b[0;34m.\u001b[0m\u001b[0mes\u001b[0m\u001b[0;34m.\u001b[0m\u001b[0mindices\u001b[0m\u001b[0;34m.\u001b[0m\u001b[0mdelete\u001b[0m\u001b[0;34m(\u001b[0m\u001b[0mindex\u001b[0m\u001b[0;34m=\u001b[0m\u001b[0mindex\u001b[0m\u001b[0;34m)\u001b[0m\u001b[0;34m\u001b[0m\u001b[0;34m\u001b[0m\u001b[0m\n\u001b[0;32m---> 34\u001b[0;31m         \u001b[0mself\u001b[0m\u001b[0;34m.\u001b[0m\u001b[0mes\u001b[0m\u001b[0;34m.\u001b[0m\u001b[0mindices\u001b[0m\u001b[0;34m.\u001b[0m\u001b[0mcreate\u001b[0m\u001b[0;34m(\u001b[0m\u001b[0mindex\u001b[0m\u001b[0;34m=\u001b[0m\u001b[0mindex\u001b[0m\u001b[0;34m,\u001b[0m \u001b[0mbody\u001b[0m\u001b[0;34m=\u001b[0m\u001b[0msettings\u001b[0m\u001b[0;34m)\u001b[0m\u001b[0;34m\u001b[0m\u001b[0;34m\u001b[0m\u001b[0m\n\u001b[0m\u001b[1;32m     35\u001b[0m \u001b[0;34m\u001b[0m\u001b[0m\n\u001b[1;32m     36\u001b[0m     \u001b[0;32mdef\u001b[0m \u001b[0mes_actions_generator\u001b[0m\u001b[0;34m(\u001b[0m\u001b[0mself\u001b[0m\u001b[0;34m,\u001b[0m \u001b[0mpath_to_docs\u001b[0m\u001b[0;34m)\u001b[0m\u001b[0;34m:\u001b[0m\u001b[0;34m\u001b[0m\u001b[0;34m\u001b[0m\u001b[0m\n",
      "\u001b[0;32m~/anaconda3/lib/python3.7/site-packages/elasticsearch/client/utils.py\u001b[0m in \u001b[0;36m_wrapped\u001b[0;34m(*args, **kwargs)\u001b[0m\n\u001b[1;32m     82\u001b[0m                 \u001b[0;32mif\u001b[0m \u001b[0mp\u001b[0m \u001b[0;32min\u001b[0m \u001b[0mkwargs\u001b[0m\u001b[0;34m:\u001b[0m\u001b[0;34m\u001b[0m\u001b[0;34m\u001b[0m\u001b[0m\n\u001b[1;32m     83\u001b[0m                     \u001b[0mparams\u001b[0m\u001b[0;34m[\u001b[0m\u001b[0mp\u001b[0m\u001b[0;34m]\u001b[0m \u001b[0;34m=\u001b[0m \u001b[0mkwargs\u001b[0m\u001b[0;34m.\u001b[0m\u001b[0mpop\u001b[0m\u001b[0;34m(\u001b[0m\u001b[0mp\u001b[0m\u001b[0;34m)\u001b[0m\u001b[0;34m\u001b[0m\u001b[0;34m\u001b[0m\u001b[0m\n\u001b[0;32m---> 84\u001b[0;31m             \u001b[0;32mreturn\u001b[0m \u001b[0mfunc\u001b[0m\u001b[0;34m(\u001b[0m\u001b[0;34m*\u001b[0m\u001b[0margs\u001b[0m\u001b[0;34m,\u001b[0m \u001b[0mparams\u001b[0m\u001b[0;34m=\u001b[0m\u001b[0mparams\u001b[0m\u001b[0;34m,\u001b[0m \u001b[0;34m**\u001b[0m\u001b[0mkwargs\u001b[0m\u001b[0;34m)\u001b[0m\u001b[0;34m\u001b[0m\u001b[0;34m\u001b[0m\u001b[0m\n\u001b[0m\u001b[1;32m     85\u001b[0m \u001b[0;34m\u001b[0m\u001b[0m\n\u001b[1;32m     86\u001b[0m         \u001b[0;32mreturn\u001b[0m \u001b[0m_wrapped\u001b[0m\u001b[0;34m\u001b[0m\u001b[0;34m\u001b[0m\u001b[0m\n",
      "\u001b[0;32m~/anaconda3/lib/python3.7/site-packages/elasticsearch/client/indices.py\u001b[0m in \u001b[0;36mcreate\u001b[0;34m(self, index, body, params)\u001b[0m\n\u001b[1;32m    103\u001b[0m             \u001b[0;32mraise\u001b[0m \u001b[0mValueError\u001b[0m\u001b[0;34m(\u001b[0m\u001b[0;34m\"Empty value passed for a required argument 'index'.\"\u001b[0m\u001b[0;34m)\u001b[0m\u001b[0;34m\u001b[0m\u001b[0;34m\u001b[0m\u001b[0m\n\u001b[1;32m    104\u001b[0m         return self.transport.perform_request(\n\u001b[0;32m--> 105\u001b[0;31m             \u001b[0;34m\"PUT\"\u001b[0m\u001b[0;34m,\u001b[0m \u001b[0m_make_path\u001b[0m\u001b[0;34m(\u001b[0m\u001b[0mindex\u001b[0m\u001b[0;34m)\u001b[0m\u001b[0;34m,\u001b[0m \u001b[0mparams\u001b[0m\u001b[0;34m=\u001b[0m\u001b[0mparams\u001b[0m\u001b[0;34m,\u001b[0m \u001b[0mbody\u001b[0m\u001b[0;34m=\u001b[0m\u001b[0mbody\u001b[0m\u001b[0;34m\u001b[0m\u001b[0;34m\u001b[0m\u001b[0m\n\u001b[0m\u001b[1;32m    106\u001b[0m         )\n\u001b[1;32m    107\u001b[0m \u001b[0;34m\u001b[0m\u001b[0m\n",
      "\u001b[0;32m~/anaconda3/lib/python3.7/site-packages/elasticsearch/transport.py\u001b[0m in \u001b[0;36mperform_request\u001b[0;34m(self, method, url, headers, params, body)\u001b[0m\n\u001b[1;32m    348\u001b[0m                     \u001b[0mheaders\u001b[0m\u001b[0;34m=\u001b[0m\u001b[0mheaders\u001b[0m\u001b[0;34m,\u001b[0m\u001b[0;34m\u001b[0m\u001b[0;34m\u001b[0m\u001b[0m\n\u001b[1;32m    349\u001b[0m                     \u001b[0mignore\u001b[0m\u001b[0;34m=\u001b[0m\u001b[0mignore\u001b[0m\u001b[0;34m,\u001b[0m\u001b[0;34m\u001b[0m\u001b[0;34m\u001b[0m\u001b[0m\n\u001b[0;32m--> 350\u001b[0;31m                     \u001b[0mtimeout\u001b[0m\u001b[0;34m=\u001b[0m\u001b[0mtimeout\u001b[0m\u001b[0;34m,\u001b[0m\u001b[0;34m\u001b[0m\u001b[0;34m\u001b[0m\u001b[0m\n\u001b[0m\u001b[1;32m    351\u001b[0m                 )\n\u001b[1;32m    352\u001b[0m \u001b[0;34m\u001b[0m\u001b[0m\n",
      "\u001b[0;32m~/anaconda3/lib/python3.7/site-packages/elasticsearch/connection/http_urllib3.py\u001b[0m in \u001b[0;36mperform_request\u001b[0;34m(self, method, url, params, body, timeout, ignore, headers)\u001b[0m\n\u001b[1;32m    250\u001b[0m                 \u001b[0mmethod\u001b[0m\u001b[0;34m,\u001b[0m \u001b[0mfull_url\u001b[0m\u001b[0;34m,\u001b[0m \u001b[0murl\u001b[0m\u001b[0;34m,\u001b[0m \u001b[0mbody\u001b[0m\u001b[0;34m,\u001b[0m \u001b[0mduration\u001b[0m\u001b[0;34m,\u001b[0m \u001b[0mresponse\u001b[0m\u001b[0;34m.\u001b[0m\u001b[0mstatus\u001b[0m\u001b[0;34m,\u001b[0m \u001b[0mraw_data\u001b[0m\u001b[0;34m\u001b[0m\u001b[0;34m\u001b[0m\u001b[0m\n\u001b[1;32m    251\u001b[0m             )\n\u001b[0;32m--> 252\u001b[0;31m             \u001b[0mself\u001b[0m\u001b[0;34m.\u001b[0m\u001b[0m_raise_error\u001b[0m\u001b[0;34m(\u001b[0m\u001b[0mresponse\u001b[0m\u001b[0;34m.\u001b[0m\u001b[0mstatus\u001b[0m\u001b[0;34m,\u001b[0m \u001b[0mraw_data\u001b[0m\u001b[0;34m)\u001b[0m\u001b[0;34m\u001b[0m\u001b[0;34m\u001b[0m\u001b[0m\n\u001b[0m\u001b[1;32m    253\u001b[0m \u001b[0;34m\u001b[0m\u001b[0m\n\u001b[1;32m    254\u001b[0m         self.log_request_success(\n",
      "\u001b[0;32m~/anaconda3/lib/python3.7/site-packages/elasticsearch/connection/base.py\u001b[0m in \u001b[0;36m_raise_error\u001b[0;34m(self, status_code, raw_data)\u001b[0m\n\u001b[1;32m    179\u001b[0m \u001b[0;34m\u001b[0m\u001b[0m\n\u001b[1;32m    180\u001b[0m         raise HTTP_EXCEPTIONS.get(status_code, TransportError)(\n\u001b[0;32m--> 181\u001b[0;31m             \u001b[0mstatus_code\u001b[0m\u001b[0;34m,\u001b[0m \u001b[0merror_message\u001b[0m\u001b[0;34m,\u001b[0m \u001b[0madditional_info\u001b[0m\u001b[0;34m\u001b[0m\u001b[0;34m\u001b[0m\u001b[0m\n\u001b[0m\u001b[1;32m    182\u001b[0m         )\n\u001b[1;32m    183\u001b[0m \u001b[0;34m\u001b[0m\u001b[0m\n",
      "\u001b[0;31mRequestError\u001b[0m: RequestError(400, 'mapper_parsing_exception', 'Root mapping definition has unsupported parameters:  [title : {type=text}] [content : {type=text}]')"
     ]
    }
   ],
   "source": [
    "index_title = Index(\"docs\", settings_title)"
   ]
  },
  {
   "cell_type": "code",
   "execution_count": 10,
   "metadata": {},
   "outputs": [
    {
     "data": {
      "application/vnd.jupyter.widget-view+json": {
       "model_id": "5d9b95b11026408e872ca261f78172a2",
       "version_major": 2,
       "version_minor": 0
      },
      "text/plain": [
       "HBox(children=(IntProgress(value=0, max=200000), HTML(value='')))"
      ]
     },
     "metadata": {},
     "output_type": "display_data"
    },
    {
     "name": "stdout",
     "output_type": "stream",
     "text": [
      "\n",
      "RequestError(400, 'action_request_validation_exception', 'Validation Failed: 1: type is missing;2: type is missing;3: type is missing;4: type is missing;5: type is missing;6: type is missing;7: type is missing;8: type is missing;9: type is missing;10: type is missing;11: type is missing;12: type is missing;13: type is missing;14: type is missing;15: type is missing;16: type is missing;17: type is missing;18: type is missing;19: type is missing;20: type is missing;21: type is missing;22: type is missing;23: type is missing;24: type is missing;25: type is missing;26: type is missing;27: type is missing;28: type is missing;29: type is missing;30: type is missing;31: type is missing;32: type is missing;33: type is missing;34: type is missing;35: type is missing;36: type is missing;37: type is missing;38: type is missing;39: type is missing;40: type is missing;41: type is missing;42: type is missing;43: type is missing;44: type is missing;45: type is missing;46: type is missing;47: type is missing;48: type is missing;49: type is missing;50: type is missing;51: type is missing;52: type is missing;53: type is missing;54: type is missing;55: type is missing;56: type is missing;57: type is missing;58: type is missing;59: type is missing;60: type is missing;61: type is missing;62: type is missing;63: type is missing;64: type is missing;65: type is missing;66: type is missing;67: type is missing;68: type is missing;69: type is missing;70: type is missing;71: type is missing;72: type is missing;73: type is missing;74: type is missing;75: type is missing;76: type is missing;77: type is missing;78: type is missing;79: type is missing;80: type is missing;81: type is missing;82: type is missing;83: type is missing;84: type is missing;85: type is missing;86: type is missing;87: type is missing;88: type is missing;89: type is missing;90: type is missing;91: type is missing;92: type is missing;93: type is missing;94: type is missing;95: type is missing;96: type is missing;97: type is missing;98: type is missing;99: type is missing;100: type is missing;101: type is missing;102: type is missing;103: type is missing;104: type is missing;105: type is missing;106: type is missing;107: type is missing;108: type is missing;109: type is missing;110: type is missing;111: type is missing;112: type is missing;113: type is missing;114: type is missing;115: type is missing;116: type is missing;117: type is missing;118: type is missing;119: type is missing;120: type is missing;121: type is missing;122: type is missing;123: type is missing;124: type is missing;125: type is missing;126: type is missing;127: type is missing;128: type is missing;129: type is missing;130: type is missing;131: type is missing;132: type is missing;133: type is missing;134: type is missing;135: type is missing;136: type is missing;137: type is missing;138: type is missing;139: type is missing;140: type is missing;141: type is missing;142: type is missing;143: type is missing;144: type is missing;145: type is missing;146: type is missing;147: type is missing;148: type is missing;149: type is missing;150: type is missing;151: type is missing;152: type is missing;153: type is missing;154: type is missing;155: type is missing;156: type is missing;157: type is missing;158: type is missing;159: type is missing;160: type is missing;161: type is missing;162: type is missing;163: type is missing;164: type is missing;165: type is missing;166: type is missing;167: type is missing;168: type is missing;169: type is missing;170: type is missing;171: type is missing;172: type is missing;173: type is missing;174: type is missing;175: type is missing;176: type is missing;177: type is missing;178: type is missing;179: type is missing;180: type is missing;181: type is missing;182: type is missing;183: type is missing;184: type is missing;185: type is missing;186: type is missing;187: type is missing;188: type is missing;189: type is missing;190: type is missing;191: type is missing;192: type is missing;193: type is missing;194: type is missing;195: type is missing;196: type is missing;197: type is missing;198: type is missing;199: type is missing;200: type is missing;201: type is missing;202: type is missing;203: type is missing;204: type is missing;205: type is missing;206: type is missing;207: type is missing;208: type is missing;209: type is missing;210: type is missing;211: type is missing;212: type is missing;213: type is missing;214: type is missing;215: type is missing;216: type is missing;217: type is missing;218: type is missing;219: type is missing;220: type is missing;221: type is missing;222: type is missing;223: type is missing;224: type is missing;225: type is missing;226: type is missing;227: type is missing;228: type is missing;229: type is missing;230: type is missing;231: type is missing;232: type is missing;233: type is missing;234: type is missing;235: type is missing;236: type is missing;237: type is missing;238: type is missing;239: type is missing;240: type is missing;241: type is missing;242: type is missing;243: type is missing;244: type is missing;245: type is missing;246: type is missing;247: type is missing;248: type is missing;249: type is missing;250: type is missing;251: type is missing;252: type is missing;253: type is missing;254: type is missing;255: type is missing;256: type is missing;257: type is missing;258: type is missing;259: type is missing;260: type is missing;261: type is missing;262: type is missing;263: type is missing;264: type is missing;265: type is missing;266: type is missing;267: type is missing;268: type is missing;269: type is missing;270: type is missing;271: type is missing;272: type is missing;273: type is missing;274: type is missing;275: type is missing;276: type is missing;277: type is missing;278: type is missing;279: type is missing;280: type is missing;281: type is missing;282: type is missing;283: type is missing;284: type is missing;285: type is missing;286: type is missing;287: type is missing;288: type is missing;289: type is missing;290: type is missing;291: type is missing;292: type is missing;293: type is missing;294: type is missing;295: type is missing;296: type is missing;297: type is missing;298: type is missing;299: type is missing;300: type is missing;301: type is missing;302: type is missing;303: type is missing;304: type is missing;305: type is missing;306: type is missing;307: type is missing;308: type is missing;309: type is missing;310: type is missing;311: type is missing;312: type is missing;313: type is missing;314: type is missing;315: type is missing;316: type is missing;317: type is missing;318: type is missing;319: type is missing;320: type is missing;321: type is missing;322: type is missing;323: type is missing;324: type is missing;325: type is missing;326: type is missing;327: type is missing;328: type is missing;329: type is missing;330: type is missing;331: type is missing;332: type is missing;333: type is missing;334: type is missing;335: type is missing;336: type is missing;337: type is missing;338: type is missing;339: type is missing;340: type is missing;341: type is missing;342: type is missing;343: type is missing;344: type is missing;345: type is missing;346: type is missing;347: type is missing;348: type is missing;349: type is missing;350: type is missing;351: type is missing;352: type is missing;353: type is missing;354: type is missing;355: type is missing;356: type is missing;357: type is missing;358: type is missing;359: type is missing;360: type is missing;361: type is missing;362: type is missing;363: type is missing;364: type is missing;365: type is missing;366: type is missing;367: type is missing;368: type is missing;369: type is missing;370: type is missing;371: type is missing;372: type is missing;373: type is missing;374: type is missing;375: type is missing;376: type is missing;377: type is missing;378: type is missing;379: type is missing;380: type is missing;381: type is missing;382: type is missing;383: type is missing;384: type is missing;385: type is missing;386: type is missing;387: type is missing;388: type is missing;389: type is missing;390: type is missing;391: type is missing;392: type is missing;393: type is missing;394: type is missing;395: type is missing;396: type is missing;397: type is missing;398: type is missing;399: type is missing;400: type is missing;401: type is missing;402: type is missing;403: type is missing;404: type is missing;405: type is missing;406: type is missing;407: type is missing;408: type is missing;409: type is missing;410: type is missing;411: type is missing;412: type is missing;413: type is missing;414: type is missing;415: type is missing;416: type is missing;417: type is missing;418: type is missing;419: type is missing;420: type is missing;421: type is missing;422: type is missing;423: type is missing;424: type is missing;425: type is missing;426: type is missing;427: type is missing;428: type is missing;429: type is missing;430: type is missing;431: type is missing;432: type is missing;433: type is missing;434: type is missing;435: type is missing;436: type is missing;437: type is missing;438: type is missing;439: type is missing;440: type is missing;441: type is missing;442: type is missing;443: type is missing;444: type is missing;445: type is missing;446: type is missing;447: type is missing;448: type is missing;449: type is missing;450: type is missing;451: type is missing;452: type is missing;453: type is missing;454: type is missing;455: type is missing;456: type is missing;457: type is missing;458: type is missing;459: type is missing;460: type is missing;461: type is missing;462: type is missing;463: type is missing;464: type is missing;465: type is missing;466: type is missing;467: type is missing;468: type is missing;469: type is missing;470: type is missing;471: type is missing;472: type is missing;473: type is missing;474: type is missing;475: type is missing;476: type is missing;477: type is missing;478: type is missing;479: type is missing;480: type is missing;481: type is missing;482: type is missing;483: type is missing;484: type is missing;485: type is missing;486: type is missing;487: type is missing;488: type is missing;489: type is missing;490: type is missing;491: type is missing;492: type is missing;493: type is missing;494: type is missing;495: type is missing;496: type is missing;497: type is missing;498: type is missing;499: type is missing;500: type is missing;501: type is missing;502: type is missing;503: type is missing;504: type is missing;505: type is missing;506: type is missing;507: type is missing;508: type is missing;509: type is missing;510: type is missing;511: type is missing;512: type is missing;513: type is missing;514: type is missing;515: type is missing;516: type is missing;517: type is missing;518: type is missing;519: type is missing;520: type is missing;521: type is missing;522: type is missing;523: type is missing;524: type is missing;525: type is missing;526: type is missing;527: type is missing;528: type is missing;529: type is missing;530: type is missing;531: type is missing;532: type is missing;533: type is missing;534: type is missing;535: type is missing;536: type is missing;537: type is missing;538: type is missing;539: type is missing;540: type is missing;541: type is missing;542: type is missing;543: type is missing;544: type is missing;545: type is missing;546: type is missing;547: type is missing;548: type is missing;549: type is missing;550: type is missing;551: type is missing;552: type is missing;553: type is missing;554: type is missing;555: type is missing;556: type is missing;557: type is missing;558: type is missing;559: type is missing;560: type is missing;561: type is missing;562: type is missing;563: type is missing;564: type is missing;565: type is missing;566: type is missing;567: type is missing;568: type is missing;569: type is missing;570: type is missing;571: type is missing;572: type is missing;573: type is missing;574: type is missing;575: type is missing;576: type is missing;577: type is missing;578: type is missing;579: type is missing;580: type is missing;581: type is missing;582: type is missing;583: type is missing;584: type is missing;585: type is missing;586: type is missing;587: type is missing;588: type is missing;589: type is missing;590: type is missing;591: type is missing;592: type is missing;593: type is missing;594: type is missing;595: type is missing;596: type is missing;597: type is missing;598: type is missing;599: type is missing;600: type is missing;601: type is missing;602: type is missing;603: type is missing;604: type is missing;605: type is missing;606: type is missing;607: type is missing;608: type is missing;609: type is missing;610: type is missing;611: type is missing;612: type is missing;613: type is missing;614: type is missing;615: type is missing;616: type is missing;617: type is missing;618: type is missing;619: type is missing;620: type is missing;621: type is missing;622: type is missing;623: type is missing;624: type is missing;625: type is missing;626: type is missing;627: type is missing;628: type is missing;629: type is missing;630: type is missing;631: type is missing;632: type is missing;633: type is missing;634: type is missing;635: type is missing;636: type is missing;637: type is missing;638: type is missing;639: type is missing;640: type is missing;641: type is missing;642: type is missing;643: type is missing;644: type is missing;645: type is missing;646: type is missing;647: type is missing;648: type is missing;649: type is missing;650: type is missing;651: type is missing;652: type is missing;653: type is missing;654: type is missing;655: type is missing;656: type is missing;657: type is missing;658: type is missing;659: type is missing;660: type is missing;661: type is missing;662: type is missing;663: type is missing;664: type is missing;665: type is missing;666: type is missing;667: type is missing;668: type is missing;669: type is missing;670: type is missing;671: type is missing;672: type is missing;673: type is missing;674: type is missing;675: type is missing;676: type is missing;677: type is missing;678: type is missing;679: type is missing;680: type is missing;681: type is missing;682: type is missing;683: type is missing;684: type is missing;685: type is missing;686: type is missing;687: type is missing;688: type is missing;689: type is missing;690: type is missing;691: type is missing;692: type is missing;693: type is missing;694: type is missing;695: type is missing;696: type is missing;697: type is missing;698: type is missing;699: type is missing;700: type is missing;701: type is missing;702: type is missing;703: type is missing;704: type is missing;705: type is missing;706: type is missing;707: type is missing;708: type is missing;709: type is missing;710: type is missing;711: type is missing;712: type is missing;713: type is missing;714: type is missing;715: type is missing;716: type is missing;717: type is missing;718: type is missing;719: type is missing;720: type is missing;721: type is missing;722: type is missing;723: type is missing;724: type is missing;725: type is missing;726: type is missing;727: type is missing;728: type is missing;729: type is missing;730: type is missing;731: type is missing;732: type is missing;733: type is missing;734: type is missing;735: type is missing;736: type is missing;737: type is missing;738: type is missing;739: type is missing;740: type is missing;741: type is missing;742: type is missing;743: type is missing;744: type is missing;745: type is missing;746: type is missing;747: type is missing;748: type is missing;749: type is missing;750: type is missing;751: type is missing;752: type is missing;753: type is missing;754: type is missing;755: type is missing;756: type is missing;757: type is missing;758: type is missing;759: type is missing;760: type is missing;761: type is missing;762: type is missing;763: type is missing;764: type is missing;765: type is missing;766: type is missing;767: type is missing;768: type is missing;769: type is missing;770: type is missing;771: type is missing;772: type is missing;773: type is missing;774: type is missing;775: type is missing;776: type is missing;777: type is missing;778: type is missing;779: type is missing;780: type is missing;781: type is missing;782: type is missing;783: type is missing;784: type is missing;785: type is missing;786: type is missing;787: type is missing;788: type is missing;789: type is missing;790: type is missing;791: type is missing;792: type is missing;793: type is missing;794: type is missing;795: type is missing;796: type is missing;797: type is missing;798: type is missing;799: type is missing;800: type is missing;801: type is missing;802: type is missing;803: type is missing;804: type is missing;805: type is missing;806: type is missing;807: type is missing;808: type is missing;809: type is missing;810: type is missing;811: type is missing;812: type is missing;813: type is missing;814: type is missing;815: type is missing;816: type is missing;817: type is missing;818: type is missing;819: type is missing;820: type is missing;821: type is missing;822: type is missing;823: type is missing;824: type is missing;825: type is missing;826: type is missing;827: type is missing;828: type is missing;829: type is missing;830: type is missing;831: type is missing;832: type is missing;833: type is missing;834: type is missing;835: type is missing;836: type is missing;837: type is missing;838: type is missing;839: type is missing;840: type is missing;841: type is missing;842: type is missing;843: type is missing;844: type is missing;845: type is missing;846: type is missing;847: type is missing;848: type is missing;849: type is missing;850: type is missing;851: type is missing;852: type is missing;853: type is missing;854: type is missing;855: type is missing;856: type is missing;857: type is missing;858: type is missing;859: type is missing;860: type is missing;861: type is missing;862: type is missing;863: type is missing;864: type is missing;865: type is missing;866: type is missing;867: type is missing;868: type is missing;869: type is missing;870: type is missing;871: type is missing;872: type is missing;873: type is missing;874: type is missing;875: type is missing;876: type is missing;877: type is missing;878: type is missing;879: type is missing;880: type is missing;881: type is missing;882: type is missing;883: type is missing;884: type is missing;885: type is missing;886: type is missing;887: type is missing;888: type is missing;889: type is missing;890: type is missing;891: type is missing;892: type is missing;893: type is missing;894: type is missing;895: type is missing;896: type is missing;897: type is missing;898: type is missing;899: type is missing;900: type is missing;901: type is missing;902: type is missing;903: type is missing;904: type is missing;905: type is missing;906: type is missing;907: type is missing;908: type is missing;909: type is missing;910: type is missing;911: type is missing;912: type is missing;913: type is missing;914: type is missing;915: type is missing;916: type is missing;917: type is missing;918: type is missing;919: type is missing;920: type is missing;921: type is missing;922: type is missing;923: type is missing;924: type is missing;925: type is missing;926: type is missing;927: type is missing;928: type is missing;929: type is missing;930: type is missing;931: type is missing;932: type is missing;933: type is missing;934: type is missing;935: type is missing;936: type is missing;937: type is missing;938: type is missing;939: type is missing;940: type is missing;941: type is missing;942: type is missing;943: type is missing;944: type is missing;945: type is missing;946: type is missing;947: type is missing;948: type is missing;949: type is missing;950: type is missing;951: type is missing;952: type is missing;953: type is missing;954: type is missing;955: type is missing;956: type is missing;957: type is missing;958: type is missing;959: type is missing;960: type is missing;961: type is missing;962: type is missing;963: type is missing;964: type is missing;965: type is missing;966: type is missing;967: type is missing;968: type is missing;969: type is missing;970: type is missing;971: type is missing;972: type is missing;973: type is missing;974: type is missing;975: type is missing;976: type is missing;977: type is missing;978: type is missing;979: type is missing;980: type is missing;981: type is missing;982: type is missing;983: type is missing;984: type is missing;985: type is missing;986: type is missing;987: type is missing;988: type is missing;989: type is missing;990: type is missing;991: type is missing;992: type is missing;993: type is missing;994: type is missing;995: type is missing;996: type is missing;997: type is missing;998: type is missing;999: type is missing;1000: type is missing;')\n",
      "0:02:14.243767\n"
     ]
    }
   ],
   "source": [
    "start = time.time()\n",
    "index.add_documents(\"data/json_text\")\n",
    "elapsed = time.time() - start\n",
    "print(str(timedelta(seconds=elapsed)))"
   ]
  },
  {
   "cell_type": "code",
   "execution_count": 61,
   "metadata": {},
   "outputs": [
    {
     "data": {
      "application/vnd.jupyter.widget-view+json": {
       "model_id": "c2205f9a6ea5430fb5e615e2b61e3b9f",
       "version_major": 2,
       "version_minor": 0
      },
      "text/plain": [
       "HBox(children=(IntProgress(value=0, max=200000), HTML(value='')))"
      ]
     },
     "metadata": {},
     "output_type": "display_data"
    },
    {
     "name": "stdout",
     "output_type": "stream",
     "text": [
      "\n",
      "0:02:16.731730\n"
     ]
    }
   ],
   "source": [
    "start = time.time()\n",
    "index_title.add_documents(\"res/text_titles_json\")\n",
    "elapsed = time.time() - start\n",
    "print(str(timedelta(seconds=elapsed)))"
   ]
  },
  {
   "cell_type": "code",
   "execution_count": 11,
   "metadata": {},
   "outputs": [],
   "source": [
    "def print_index_size(index): \n",
    "    print(f\"{(index.es.indices.stats(index.index_name)['_all']['primaries']['store']['size_in_bytes'] / 2 ** 30):.2f} GB\")"
   ]
  },
  {
   "cell_type": "code",
   "execution_count": 12,
   "metadata": {},
   "outputs": [
    {
     "name": "stdout",
     "output_type": "stream",
     "text": [
      "0.00 GB\n"
     ]
    }
   ],
   "source": [
    "print_index_size(index)"
   ]
  },
  {
   "cell_type": "code",
   "execution_count": 13,
   "metadata": {},
   "outputs": [
    {
     "name": "stdout",
     "output_type": "stream",
     "text": [
      "0.00 GB\n"
     ]
    }
   ],
   "source": [
    "print_index_size(index_title)"
   ]
  },
  {
   "cell_type": "code",
   "execution_count": 76,
   "metadata": {},
   "outputs": [],
   "source": [
    "class Query:\n",
    "    def __init__(self, task_id, query, relevant_docs):\n",
    "        self.task_id = task_id\n",
    "        self.query = query\n",
    "        self.relevant_docs = relevant_docs\n",
    "\n",
    "    def json_query(self):\n",
    "        return {\n",
    "            'query': {\n",
    "                'bool': {\n",
    "                    'should': [\n",
    "                        {\n",
    "                            'match': {\n",
    "                                'text': self.query\n",
    "                            }\n",
    "                        }\n",
    "                    ]\n",
    "                }\n",
    "            }\n",
    "        }\n",
    "    \n",
    "    def title_query(self):\n",
    "        return {\n",
    "            'query': {\n",
    "                'bool': {\n",
    "                    'should': [\n",
    "                        {\n",
    "                        'match': {\n",
    "                            'title': {\n",
    "                                'query': self.query,\n",
    "                                'boost': 0.15\n",
    "                            }\n",
    "                        }\n",
    "                    },\n",
    "                    {\n",
    "                        'match': {\n",
    "                            'content': self.query\n",
    "                        }\n",
    "                    }\n",
    "                    ]\n",
    "                }\n",
    "            }\n",
    "        }\n",
    "    \n",
    "    def fulltext_query():\n",
    "         return   {\n",
    "            'query': {\n",
    "                'bool': {\n",
    "                    'should': [\n",
    "                        {\n",
    "                            'match': {\n",
    "                                'text': self.query\n",
    "                            }\n",
    "                        },\n",
    "                        \n",
    "                        {\n",
    "                            'rank_feature': {\n",
    "                                'field': 'pagerank',\n",
    "                                'saturation': {\n",
    "                                    'pivot': 10\n",
    "                                }\n",
    "                            }\n",
    "                        }\n",
    "                    ]\n",
    "                }\n",
    "            }\n",
    "        }\n",
    "            \n",
    "    "
   ]
  },
  {
   "cell_type": "code",
   "execution_count": 72,
   "metadata": {},
   "outputs": [],
   "source": [
    "class SearchQualityChecker:\n",
    "    def __init__(self, queries, index):\n",
    "        self.queries = queries\n",
    "        self.index = index\n",
    "        self.results = {}\n",
    "        \n",
    "    def get_results(self):\n",
    "        r_precision_total = 0\n",
    "        map_score_total = 0\n",
    "        r_total = 0\n",
    "        p_total = 0\n",
    "        for q in tqdm(self.queries):\n",
    "            res = self.index.search(q.title_query())\n",
    "            scores = get_score(res)\n",
    "            p_total += self.p(20, q, scores)\n",
    "            r_total += self.r(20, q, scores)\n",
    "            r_precision_total += self.r_precision(q, scores)\n",
    "            map_score_total += self.map_score(q, scores, 20)\n",
    "        Q = len(self.queries)\n",
    "        return r_precision_total / Q, map_score_total / Q, p_total / Q, r_total / Q\n",
    "    \n",
    "    def r_precision(self, query, search_res_score):\n",
    "        return self.r(len(query.relevant_docs), query, search_res_score)\n",
    "    \n",
    "    def map_score(self, query, search_res_score, n):\n",
    "        m = 0\n",
    "        for k in range(1, n):       \n",
    "            m += self.p(k, query, search_res_score)\n",
    "        R = len(query.relevant_docs)\n",
    "        return m / n\n",
    "    \n",
    "    def p(self, k, query, search_res_score):\n",
    "        r = 0\n",
    "        for doc, _ in search_res_score[:k]:\n",
    "            if doc in query.relevant_docs:\n",
    "                r += 1\n",
    "        return r / k\n",
    "    \n",
    "    def r(self, k, query, search_res_score):\n",
    "        R = len(query.relevant_docs)\n",
    "        r = 0\n",
    "        for doc, _ in search_res_score[:k]:\n",
    "            if doc in query.relevant_docs:\n",
    "                r += 1\n",
    "        return r / R if R != 0 else 0 if len(search_res_score) > 0 else 1\n"
   ]
  },
  {
   "cell_type": "code",
   "execution_count": 69,
   "metadata": {},
   "outputs": [],
   "source": [
    "def get_relevance():\n",
    "    res = {}\n",
    "    xml_tree = etree.parse(\"data/relevant_table_2009.xml\")\n",
    "    root = xml_tree.getroot()\n",
    "    for task in root.getchildren():\n",
    "        relevant_docs = set()\n",
    "        for document in task.getchildren():\n",
    "            if document.get(\"relevance\") == \"vital\":\n",
    "                relevant_docs.add(document.get(\"id\"))\n",
    "        res[task.get(\"id\")] = relevant_docs\n",
    "    print(len(res))\n",
    "    return res\n",
    "\n",
    "\n",
    "def generate_queries_plain_texts():\n",
    "    relevances = get_relevance()\n",
    "    xml_tree = etree.parse(\"data/web2008_adhoc.xml\")\n",
    "    root = xml_tree.getroot()\n",
    "    res = []\n",
    "    for task in root.getchildren():\n",
    "        if task.get(\"id\") is not None:\n",
    "            for query_text in task.getchildren():\n",
    "                try:\n",
    "                    res.append(Query(task.get(\"id\"), query_text.text, relevances[task.get(\"id\")]))\n",
    "                except:\n",
    "                    pass\n",
    "    print(len(res))\n",
    "    return res"
   ]
  },
  {
   "cell_type": "code",
   "execution_count": 37,
   "metadata": {},
   "outputs": [
    {
     "name": "stdout",
     "output_type": "stream",
     "text": [
      "547\n",
      "547\n"
     ]
    },
    {
     "data": {
      "application/vnd.jupyter.widget-view+json": {
       "model_id": "c8088e23f86f49719ec327d41f00875e",
       "version_major": 2,
       "version_minor": 0
      },
      "text/plain": [
       "HBox(children=(IntProgress(value=0, max=547), HTML(value='')))"
      ]
     },
     "metadata": {},
     "output_type": "display_data"
    },
    {
     "name": "stdout",
     "output_type": "stream",
     "text": [
      "\n"
     ]
    }
   ],
   "source": [
    "queries = generate_queries_plain_texts()\n",
    "quality_checker = SearchQualityChecker(queries, index)\n",
    "plain_text_res = quality_checker.get_results()"
   ]
  },
  {
   "cell_type": "code",
   "execution_count": 77,
   "metadata": {},
   "outputs": [
    {
     "name": "stdout",
     "output_type": "stream",
     "text": [
      "547\n",
      "547\n"
     ]
    },
    {
     "data": {
      "application/vnd.jupyter.widget-view+json": {
       "model_id": "69163770e565453aab8586dc5b65efcb",
       "version_major": 2,
       "version_minor": 0
      },
      "text/plain": [
       "HBox(children=(IntProgress(value=0, max=547), HTML(value='')))"
      ]
     },
     "metadata": {},
     "output_type": "display_data"
    },
    {
     "name": "stdout",
     "output_type": "stream",
     "text": [
      "\n"
     ]
    }
   ],
   "source": [
    "queries2 = generate_queries_plain_texts()\n",
    "quality_checker2 = SearchQualityChecker(queries2, index_title)\n",
    "plain_text_res2 = quality_checker2.get_results()"
   ]
  },
  {
   "cell_type": "code",
   "execution_count": 51,
   "metadata": {},
   "outputs": [
    {
     "name": "stdout",
     "output_type": "stream",
     "text": [
      "Rprec = 0.18028930351002476\n",
      "Map = 0.3446174663606433\n",
      "P = 0.3023765996343693\n",
      "R_total = 0.21012091279641404\n"
     ]
    }
   ],
   "source": [
    "rprec, map_, p, r, = plain_text_res\n",
    "print(\"Rprec = \" + str(rprec))\n",
    "print(\"Map = \" + str(map_))\n",
    "print(\"P = \" + str(p))\n",
    "print(\"R_total = \" + str(r))"
   ]
  },
  {
   "cell_type": "code",
   "execution_count": 78,
   "metadata": {},
   "outputs": [
    {
     "name": "stdout",
     "output_type": "stream",
     "text": [
      "Rprec = 0.18945526497011625\n",
      "Map = 0.3593103822503914\n",
      "P = 0.3171846435100548\n",
      "R_total = 0.21807568364669536\n"
     ]
    }
   ],
   "source": [
    "rprec_t, map_t, p_t, r_t, = plain_text_res2\n",
    "print(\"Rprec = \" + str(rprec_t))\n",
    "print(\"Map = \" + str(map_t))\n",
    "print(\"P = \" + str(p_t))\n",
    "print(\"R_total = \" + str(r_t))"
   ]
  },
  {
   "cell_type": "code",
   "execution_count": 110,
   "metadata": {},
   "outputs": [],
   "source": [
    "from pymystem3 import Mystem\n",
    "from nltk.corpus import stopwords\n",
    "import nltk\n",
    "import re\n",
    "#nltk.download('punkt')\n",
    "#nltk.download('stopwords')\n",
    "from string import punctuation\n",
    "from nltk.corpus import stopwords\n",
    "from nltk.stem import PorterStemmer\n",
    "from nltk.stem.snowball import RussianStemmer\n",
    "from nltk.tokenize import word_tokenize\n",
    "\n",
    "russian_stopwords = stopwords.words(\"russian\")\n",
    "english_stopwords = stopwords.words(\"english\")\n",
    "black_list = [\"°\", \"№\", \"©\", \"...\", \"//\", \"://\", \"</\", \"\\\">\", \"=\\\"\", \"=\\'\", \"\\r\", \"\\n\", \"\\t\"]\n",
    "stem = Mystem()\n",
    "\n",
    "def lemmatize(text):\n",
    "    tokens = stem.lemmatize(text.lower())\n",
    "    tokens = [token for token in tokens if token != \" \" and token.strip() not in punctuation \\\n",
    "              and token not in russian_stopwords and token not in english_stopwords]\n",
    "    return ' '.join(tokens)\n",
    "\n",
    "def stemmize(text):\n",
    "    english_check = re.compile(r'[a-z]')\n",
    "    stemmerr = RussianStemmer()\n",
    "    stemmere = PorterStemmer()\n",
    "    \n",
    "    lowercase_text = text.lower()\n",
    "\n",
    "    tokens = []\n",
    "    for token in word_tokenize(lowercase_text):\n",
    "        if english_check.match(token):\n",
    "            tokens.append(stemmere.stem(token))\n",
    "        else:\n",
    "            tokens.append(stemmerr.stem(token))\n",
    "\n",
    "    tokens = [token for token in tokens if token != \" \" and token.strip() not in punctuation \\\n",
    "              and token not in russian_stopwords and token not in english_stopwords]\n",
    "    return ' '.join(tokens)\n",
    "\n",
    "def generate_queries_lemmas():\n",
    "    relevances = get_relevance()\n",
    "    xml_tree = etree.parse(\"data/web2008_adhoc.xml\")\n",
    "    root = xml_tree.getroot()\n",
    "    res = []\n",
    "    for task in tqdm(root.getchildren()):\n",
    "        if task.get(\"id\") is not None:\n",
    "            for query_text in task.getchildren():\n",
    "                try:\n",
    "                    res.append(Query(task.get(\"id\"), lemmatize(query_text.text), relevances[task.get(\"id\")]))\n",
    "                except:\n",
    "                    pass\n",
    "    print(len(res))\n",
    "    return res\n",
    "\n",
    "def generate_queries_stem():\n",
    "    relevances = get_relevance()\n",
    "    xml_tree = etree.parse(\"data/web2008_adhoc.xml\")\n",
    "    root = xml_tree.getroot()\n",
    "    res = []\n",
    "    for task in tqdm(root.getchildren()):\n",
    "        if task.get(\"id\") is not None:\n",
    "            for query_text in task.getchildren():\n",
    "                try:\n",
    "                    res.append(Query(task.get(\"id\"), stemmize(query_text.text), relevances[task.get(\"id\")]))\n",
    "                except:\n",
    "                    pass\n",
    "    print(len(res))\n",
    "    return res\n"
   ]
  },
  {
   "cell_type": "code",
   "execution_count": 96,
   "metadata": {},
   "outputs": [
    {
     "name": "stdout",
     "output_type": "stream",
     "text": [
      "547\n"
     ]
    },
    {
     "data": {
      "application/vnd.jupyter.widget-view+json": {
       "model_id": "f1a05aff11694c5faa375bb783b53fc5",
       "version_major": 2,
       "version_minor": 0
      },
      "text/plain": [
       "HBox(children=(IntProgress(value=0, max=29232), HTML(value='')))"
      ]
     },
     "metadata": {},
     "output_type": "display_data"
    },
    {
     "name": "stdout",
     "output_type": "stream",
     "text": [
      "\n",
      "547\n"
     ]
    }
   ],
   "source": [
    "queries_lemmas = generate_queries_lemmas()"
   ]
  },
  {
   "cell_type": "code",
   "execution_count": 97,
   "metadata": {},
   "outputs": [
    {
     "data": {
      "text/plain": [
       "'корозия металл'"
      ]
     },
     "execution_count": 97,
     "metadata": {},
     "output_type": "execute_result"
    }
   ],
   "source": [
    "queries_lemmas[0].query"
   ]
  },
  {
   "cell_type": "code",
   "execution_count": 53,
   "metadata": {},
   "outputs": [
    {
     "data": {
      "application/vnd.jupyter.widget-view+json": {
       "model_id": "7edbdde057f0440abb67003125f5bfe7",
       "version_major": 2,
       "version_minor": 0
      },
      "text/plain": [
       "HBox(children=(IntProgress(value=0, max=200000), HTML(value='')))"
      ]
     },
     "metadata": {},
     "output_type": "display_data"
    },
    {
     "name": "stdout",
     "output_type": "stream",
     "text": [
      "\n",
      "0:03:50.537718\n"
     ]
    }
   ],
   "source": [
    "lemma_index = Index(\"lemma_docs\", settings_1)\n",
    "\n",
    "start = time.time()\n",
    "lemma_index.add_documents(\"data/json_text_lemmatized_full\")\n",
    "elapsed = time.time() - start\n",
    "print(str(timedelta(seconds=elapsed)))"
   ]
  },
  {
   "cell_type": "code",
   "execution_count": 54,
   "metadata": {},
   "outputs": [
    {
     "name": "stdout",
     "output_type": "stream",
     "text": [
      "1.53 GB\n"
     ]
    }
   ],
   "source": [
    "print_index_size(lemma_index)"
   ]
  },
  {
   "cell_type": "code",
   "execution_count": 57,
   "metadata": {},
   "outputs": [
    {
     "data": {
      "application/vnd.jupyter.widget-view+json": {
       "model_id": "fb06616678fc483bb8a31a2b3671d72f",
       "version_major": 2,
       "version_minor": 0
      },
      "text/plain": [
       "HBox(children=(IntProgress(value=0, max=547), HTML(value='')))"
      ]
     },
     "metadata": {},
     "output_type": "display_data"
    },
    {
     "name": "stdout",
     "output_type": "stream",
     "text": [
      "\n"
     ]
    }
   ],
   "source": [
    "lemma_quality_checker = SearchQualityChecker(queries_lemmas, lemma_index)\n",
    "lemma_res = lemma_quality_checker.get_results()"
   ]
  },
  {
   "cell_type": "code",
   "execution_count": 58,
   "metadata": {},
   "outputs": [
    {
     "name": "stdout",
     "output_type": "stream",
     "text": [
      "Rprec = 0.21331724414666695\n",
      "Map = 0.38518268726110433\n",
      "P = 0.3556672760511884\n",
      "R_total = 0.2519418342391568\n"
     ]
    }
   ],
   "source": [
    "rprec, map_, p, r, = lemma_res\n",
    "print(\"Rprec = \" + str(rprec))\n",
    "print(\"Map = \" + str(map_))\n",
    "print(\"P = \" + str(p))\n",
    "print(\"R_total = \" + str(r))"
   ]
  },
  {
   "cell_type": "code",
   "execution_count": 48,
   "metadata": {},
   "outputs": [],
   "source": [
    "id_to_pagerank = {}\n",
    "with open('data/pagerank.txt','r') as f:\n",
    "    for line in f:\n",
    "        docId, docURL, rank = line.split()\n",
    "        id_to_pagerank[int(docId)] = float(rank)"
   ]
  },
  {
   "cell_type": "code",
   "execution_count": 49,
   "metadata": {},
   "outputs": [
    {
     "data": {
      "text/plain": [
       "199202"
      ]
     },
     "execution_count": 49,
     "metadata": {},
     "output_type": "execute_result"
    }
   ],
   "source": [
    "len(id_to_pagerank)\n"
   ]
  },
  {
   "cell_type": "code",
   "execution_count": 50,
   "metadata": {},
   "outputs": [
    {
     "data": {
      "application/vnd.jupyter.widget-view+json": {
       "model_id": "b1249c3888c4493f89c73ce54438e20c",
       "version_major": 2,
       "version_minor": 0
      },
      "text/plain": [
       "HBox(children=(IntProgress(value=0, max=200000), HTML(value='')))"
      ]
     },
     "metadata": {},
     "output_type": "display_data"
    },
    {
     "name": "stdout",
     "output_type": "stream",
     "text": [
      "\n"
     ]
    }
   ],
   "source": [
    " for doc_name in tqdm(os.listdir(\"data/json_filtered_tokens_texts\")):\n",
    "        with open(f\"data/json_filtered_tokens_texts/{doc_name}\", \"r+\", encoding=\"utf-8\") as inf:\n",
    "            doc_id = int(''.join(list(filter(str.isdigit, doc_name))))\n",
    "            doc = json.load(inf)\n",
    "            try:\n",
    "                doc[\"pagerank\"] = id_to_pagerank.get(doc_id)\n",
    "            except:\n",
    "                pass\n",
    "            inf.seek(0)        # <--- should reset file position to the beginning.\n",
    "            json.dump(doc, inf, indent=4, ensure_ascii=False)\n",
    "            inf.truncate()"
   ]
  },
  {
   "cell_type": "code",
   "execution_count": 5,
   "metadata": {},
   "outputs": [],
   "source": [
    "settings_with_pagerank = {\n",
    "    \"mappings\": {\n",
    "        \"properties\": {\n",
    "            \"text\": {\n",
    "                \"type\": \"text\"\n",
    "            },\n",
    "            \"pagerank\": {\n",
    "                \"type\": \"rank_feature\"\n",
    "            }\n",
    "        }\n",
    "    }\n",
    "}"
   ]
  },
  {
   "cell_type": "code",
   "execution_count": 6,
   "metadata": {},
   "outputs": [],
   "source": [
    "pr_index = Index(\"pagerank_index\", settings_with_pagerank)"
   ]
  },
  {
   "cell_type": "code",
   "execution_count": 7,
   "metadata": {},
   "outputs": [
    {
     "data": {
      "application/vnd.jupyter.widget-view+json": {
       "model_id": "8fa893568e2d4f46bfaefd5521837b1f",
       "version_major": 2,
       "version_minor": 0
      },
      "text/plain": [
       "HBox(children=(IntProgress(value=0, max=200000), HTML(value='')))"
      ]
     },
     "metadata": {},
     "output_type": "display_data"
    },
    {
     "name": "stdout",
     "output_type": "stream",
     "text": [
      "\n",
      "('3 document(s) failed to index.', [{'index': {'_index': 'pagerank_index', '_type': '_doc', '_id': '1204092', 'status': 400, 'error': {'type': 'mapper_parsing_exception', 'reason': \"failed to parse field [pagerank] of type [rank_feature] in document with id '1204092'. Preview of field's value: '0'\", 'caused_by': {'type': 'illegal_argument_exception', 'reason': 'featureValue must be a positive normal float, got: 0.0for feature pagerank on field _feature which is less than the minimum positive normal float: 1.17549435E-38'}}, 'data': {'text': 'english version услуга продукт решение партнер новость компания группа iba контакт поиск главный новость добро пожаловать www kancler смотреть также подписываться наш новость добро пожаловать www kancler пакет прикладной программа ппп канцлер это новое поколение программный продукт наш компания платформа lotus domino notes предназначать создание система электронный документооборот сэд орган государственный управление крупный территориально распределенный организация производственный предприятие банк специализированный информационный ресурс www kancler разрабатывать наш студия веб дизайн pixelhead оперативный информирование потенциальный заказчик партнер ппп канцлер возможность особенность условие поставка также услуга наш компания часть создание система электронный документооборот посетитель сайт находить ответ многие вопрос электронный документооборот электронный документооборот организация нужный выбирать система электронный документооборот представитель организация заинтересованный создание сэд находиться поиск подходящий программный продукт получать ответ следующий вопрос ппп канцлер функциональный возможность предоставляться результат ожидать внедрение каков структура технологический особенность реализация отличаться программный продукт создание сэд сколько стоять условие поставляться технический требование предъявляться клиентский серверный часть происходить внедрение продукт сайт представлять информация ппп канцлер результат проект наш компания создание система электронный документооборот производственный предприятие орган государственный управление также отзыв заказчик наш награда необходимость посмотреть загружать презентация информационный листовка задавать вопрос подписываться новость добро пожаловать www kancler сайт посвящать новый программный продукт iba электронный документооборот дата последний модификация 20 октябрь 2005 версия печать индекс сайт право защищать 1993 2007 jv iba', 'pagerank': 0}}}, {'index': {'_index': 'pagerank_index', '_type': '_doc', '_id': '338948', 'status': 400, 'error': {'type': 'mapper_parsing_exception', 'reason': \"failed to parse field [pagerank] of type [rank_feature] in document with id '338948'. Preview of field's value: '0'\", 'caused_by': {'type': 'illegal_argument_exception', 'reason': 'featureValue must be a positive normal float, got: 0.0for feature pagerank on field _feature which is less than the minimum positive normal float: 1.17549435E-38'}}, 'data': {'text': 'читать подавать подавать объявление телеэкран реклама контакт весь страна брест витебск гомель гродно минск могилев недвижимость аренда квартира снимать доска объявление недвижимость аренда квартира снимать семья снимать комнатный квартира телефон платный размещение объявление 66 семья снимать комнатный квартира семья снимать комнатный квартира желательно фрунзенский район т 255 96 55 город минск телефон 255 96 55 добавлять 15.09 2006 12 03 заголовок семья снимать комнатный квартира отправлять объявление e mail добавлять закладка читать подавать подавать объявление телеэкран реклама контакт copyright ра сие сие 2006', 'pagerank': 0}}}, {'index': {'_index': 'pagerank_index', '_type': '_doc', '_id': '326209', 'status': 400, 'error': {'type': 'mapper_parsing_exception', 'reason': \"failed to parse field [pagerank] of type [rank_feature] in document with id '326209'. Preview of field's value: '0'\", 'caused_by': {'type': 'illegal_argument_exception', 'reason': 'featureValue must be a positive normal float, got: 0.0for feature pagerank on field _feature which is less than the minimum positive normal float: 1.17549435E-38'}}, 'data': {'text': 'читать подавать подавать объявление телеэкран реклама контакт весь страна брест витебск гомель гродно минск могилев услуга образование помощь учеба доска объявление услуга образование помощь учеба делопроизводство телефон платный размещение объявление 66 делопроизводство контрольный работа оформление компьютер распечатка быстро качественно недорого марина город г минск телефон 029 507 10 08 e mail добавлять 22.10 2006 12 20 заголовок делопроизводство отправлять объявление e mail добавлять закладка читать подавать подавать объявление телеэкран реклама контакт copyright ра сие сие 2006', 'pagerank': 0}}}])\n"
     ]
    }
   ],
   "source": [
    "pr_index.add_documents(\"data/json_filtered_tokens_texts\")"
   ]
  },
  {
   "cell_type": "code",
   "execution_count": 100,
   "metadata": {},
   "outputs": [],
   "source": [
    "index_lemmatized_title = Index(\"docs\", settings_title)"
   ]
  },
  {
   "cell_type": "code",
   "execution_count": 101,
   "metadata": {},
   "outputs": [
    {
     "data": {
      "application/vnd.jupyter.widget-view+json": {
       "model_id": "f9fc4307b4c54981ab832973611134c9",
       "version_major": 2,
       "version_minor": 0
      },
      "text/plain": [
       "HBox(children=(IntProgress(value=0, max=200000), HTML(value='')))"
      ]
     },
     "metadata": {},
     "output_type": "display_data"
    },
    {
     "name": "stdout",
     "output_type": "stream",
     "text": [
      "\n",
      "0:03:07.211645\n"
     ]
    }
   ],
   "source": [
    "start = time.time()\n",
    "index_lemmatized_title.add_documents(\"res/lemmatized_titles\")\n",
    "elapsed = time.time() - start\n",
    "print(str(timedelta(seconds=elapsed)))"
   ]
  },
  {
   "cell_type": "code",
   "execution_count": 102,
   "metadata": {},
   "outputs": [
    {
     "name": "stdout",
     "output_type": "stream",
     "text": [
      "1.19 GB\n"
     ]
    }
   ],
   "source": [
    "print_index_size(index_lemmatized_title)\n"
   ]
  },
  {
   "cell_type": "code",
   "execution_count": 103,
   "metadata": {},
   "outputs": [
    {
     "data": {
      "application/vnd.jupyter.widget-view+json": {
       "model_id": "04de01dfce1b475d9c30f3811a99a46b",
       "version_major": 2,
       "version_minor": 0
      },
      "text/plain": [
       "HBox(children=(IntProgress(value=0, max=547), HTML(value='')))"
      ]
     },
     "metadata": {},
     "output_type": "display_data"
    },
    {
     "name": "stdout",
     "output_type": "stream",
     "text": [
      "\n"
     ]
    }
   ],
   "source": [
    "#queries_lemmas = generate_queries_lemmas()\n",
    "quality_checker = SearchQualityChecker(queries_lemmas, index_lemmatized_title)\n",
    "plain_text_res = quality_checker.get_results()\n",
    "\n"
   ]
  },
  {
   "cell_type": "code",
   "execution_count": 104,
   "metadata": {},
   "outputs": [
    {
     "name": "stdout",
     "output_type": "stream",
     "text": [
      "Rprec = 0.2200322847545744\n",
      "Map = 0.40476707256709393\n",
      "P = 0.37029250457038393\n",
      "R_total = 0.25696784007892093\n"
     ]
    }
   ],
   "source": [
    "rprec, map_, p, r, = plain_text_res\n",
    "print(\"Rprec = \" + str(rprec))\n",
    "print(\"Map = \" + str(map_))\n",
    "print(\"P = \" + str(p))\n",
    "print(\"R_total = \" + str(r))"
   ]
  },
  {
   "cell_type": "code",
   "execution_count": 106,
   "metadata": {},
   "outputs": [],
   "source": [
    "index_stemmed_title = Index(\"docs\", settings_title)\n"
   ]
  },
  {
   "cell_type": "code",
   "execution_count": 107,
   "metadata": {},
   "outputs": [
    {
     "data": {
      "application/vnd.jupyter.widget-view+json": {
       "model_id": "be379eca0afa4047b7388c85db9f7468",
       "version_major": 2,
       "version_minor": 0
      },
      "text/plain": [
       "HBox(children=(IntProgress(value=0, max=200000), HTML(value='')))"
      ]
     },
     "metadata": {},
     "output_type": "display_data"
    },
    {
     "name": "stdout",
     "output_type": "stream",
     "text": [
      "\n",
      "0:01:59.685953\n"
     ]
    }
   ],
   "source": [
    "start = time.time()\n",
    "index_stemmed_title.add_documents(\"res/stemmed_titles\")\n",
    "elapsed = time.time() - start\n",
    "print(str(timedelta(seconds=elapsed)))"
   ]
  },
  {
   "cell_type": "code",
   "execution_count": 108,
   "metadata": {},
   "outputs": [
    {
     "name": "stdout",
     "output_type": "stream",
     "text": [
      "1.12 GB\n"
     ]
    }
   ],
   "source": [
    "print_index_size(index_stemmed_title)"
   ]
  },
  {
   "cell_type": "code",
   "execution_count": 111,
   "metadata": {},
   "outputs": [
    {
     "name": "stdout",
     "output_type": "stream",
     "text": [
      "547\n"
     ]
    },
    {
     "data": {
      "application/vnd.jupyter.widget-view+json": {
       "model_id": "bcc11f58efe04832aae212da690e1dbf",
       "version_major": 2,
       "version_minor": 0
      },
      "text/plain": [
       "HBox(children=(IntProgress(value=0, max=29232), HTML(value='')))"
      ]
     },
     "metadata": {},
     "output_type": "display_data"
    },
    {
     "name": "stdout",
     "output_type": "stream",
     "text": [
      "\n",
      "547\n"
     ]
    },
    {
     "data": {
      "application/vnd.jupyter.widget-view+json": {
       "model_id": "a90520c19ad8496e8029ca2ecf4bda2c",
       "version_major": 2,
       "version_minor": 0
      },
      "text/plain": [
       "HBox(children=(IntProgress(value=0, max=547), HTML(value='')))"
      ]
     },
     "metadata": {},
     "output_type": "display_data"
    },
    {
     "name": "stdout",
     "output_type": "stream",
     "text": [
      "\n"
     ]
    }
   ],
   "source": [
    "queries_stem = generate_queries_stem()\n",
    "quality_checker = SearchQualityChecker(queries_stem, index_stemmed_title)\n",
    "stem_text_res = quality_checker.get_results()"
   ]
  },
  {
   "cell_type": "code",
   "execution_count": 112,
   "metadata": {},
   "outputs": [
    {
     "name": "stdout",
     "output_type": "stream",
     "text": [
      "Rprec = 0.21094760698252735\n",
      "Map = 0.39077617948888793\n",
      "P = 0.35648994515539306\n",
      "R_total = 0.2407488051953686\n"
     ]
    }
   ],
   "source": [
    "rprec, map_, p, r, = stem_text_res\n",
    "print(\"Rprec = \" + str(rprec))\n",
    "print(\"Map = \" + str(map_))\n",
    "print(\"P = \" + str(p))\n",
    "print(\"R_total = \" + str(r))"
   ]
  },
  {
   "cell_type": "code",
   "execution_count": null,
   "metadata": {},
   "outputs": [],
   "source": []
  }
 ],
 "metadata": {
  "kernelspec": {
   "display_name": "Python 3",
   "language": "python",
   "name": "python3"
  },
  "language_info": {
   "codemirror_mode": {
    "name": "ipython",
    "version": 3
   },
   "file_extension": ".py",
   "mimetype": "text/x-python",
   "name": "python",
   "nbconvert_exporter": "python",
   "pygments_lexer": "ipython3",
   "version": "3.7.3"
  }
 },
 "nbformat": 4,
 "nbformat_minor": 2
}
